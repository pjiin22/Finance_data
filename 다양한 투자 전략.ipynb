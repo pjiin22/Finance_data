{
 "cells": [
  {
   "cell_type": "code",
   "execution_count": 26,
   "id": "ad405d15-cac1-4b18-8250-29522acf7b34",
   "metadata": {},
   "outputs": [],
   "source": [
    "import pandas as pd\n",
    "import FinanceDataReader as fdr\n",
    "import matplotlib.pyplot as plt\n",
    "import koreanize_matplotlib\n",
    "import numpy as np"
   ]
  },
  {
   "cell_type": "markdown",
   "id": "f7cdc972-1460-4ef5-beae-500f60cea967",
   "metadata": {},
   "source": [
    "## 할로윈 투자 전략\n",
    ": 11월에 사서 다음년도 4월에 파는 전략"
   ]
  },
  {
   "cell_type": "code",
   "execution_count": 42,
   "id": "73a0ebcb-7dd1-47b3-b8b5-6f662ad25b27",
   "metadata": {
    "scrolled": true
   },
   "outputs": [
    {
     "data": {
      "text/html": [
       "<div>\n",
       "<style scoped>\n",
       "    .dataframe tbody tr th:only-of-type {\n",
       "        vertical-align: middle;\n",
       "    }\n",
       "\n",
       "    .dataframe tbody tr th {\n",
       "        vertical-align: top;\n",
       "    }\n",
       "\n",
       "    .dataframe thead th {\n",
       "        text-align: right;\n",
       "    }\n",
       "</style>\n",
       "<table border=\"1\" class=\"dataframe\">\n",
       "  <thead>\n",
       "    <tr style=\"text-align: right;\">\n",
       "      <th></th>\n",
       "      <th>Open</th>\n",
       "      <th>High</th>\n",
       "      <th>Low</th>\n",
       "      <th>Close</th>\n",
       "      <th>Volume</th>\n",
       "      <th>Change</th>\n",
       "    </tr>\n",
       "    <tr>\n",
       "      <th>Date</th>\n",
       "      <th></th>\n",
       "      <th></th>\n",
       "      <th></th>\n",
       "      <th></th>\n",
       "      <th></th>\n",
       "      <th></th>\n",
       "    </tr>\n",
       "  </thead>\n",
       "  <tbody>\n",
       "    <tr>\n",
       "      <th>2001-11-01</th>\n",
       "      <td>3540</td>\n",
       "      <td>3630</td>\n",
       "      <td>3480</td>\n",
       "      <td>3580</td>\n",
       "      <td>685945</td>\n",
       "      <td>0.031700</td>\n",
       "    </tr>\n",
       "    <tr>\n",
       "      <th>2001-11-02</th>\n",
       "      <td>3630</td>\n",
       "      <td>3670</td>\n",
       "      <td>3630</td>\n",
       "      <td>3660</td>\n",
       "      <td>758497</td>\n",
       "      <td>0.022346</td>\n",
       "    </tr>\n",
       "    <tr>\n",
       "      <th>2001-11-05</th>\n",
       "      <td>3670</td>\n",
       "      <td>3699</td>\n",
       "      <td>3619</td>\n",
       "      <td>3700</td>\n",
       "      <td>603653</td>\n",
       "      <td>0.010929</td>\n",
       "    </tr>\n",
       "    <tr>\n",
       "      <th>2001-11-06</th>\n",
       "      <td>3780</td>\n",
       "      <td>3829</td>\n",
       "      <td>3760</td>\n",
       "      <td>3800</td>\n",
       "      <td>1060255</td>\n",
       "      <td>0.027027</td>\n",
       "    </tr>\n",
       "    <tr>\n",
       "      <th>2001-11-07</th>\n",
       "      <td>3820</td>\n",
       "      <td>3829</td>\n",
       "      <td>3770</td>\n",
       "      <td>3810</td>\n",
       "      <td>885396</td>\n",
       "      <td>0.002632</td>\n",
       "    </tr>\n",
       "    <tr>\n",
       "      <th>2001-11-08</th>\n",
       "      <td>3810</td>\n",
       "      <td>3870</td>\n",
       "      <td>3800</td>\n",
       "      <td>3860</td>\n",
       "      <td>752072</td>\n",
       "      <td>0.013123</td>\n",
       "    </tr>\n",
       "    <tr>\n",
       "      <th>2001-11-09</th>\n",
       "      <td>3900</td>\n",
       "      <td>4010</td>\n",
       "      <td>3860</td>\n",
       "      <td>3970</td>\n",
       "      <td>1308756</td>\n",
       "      <td>0.028497</td>\n",
       "    </tr>\n",
       "    <tr>\n",
       "      <th>2001-11-12</th>\n",
       "      <td>4010</td>\n",
       "      <td>4050</td>\n",
       "      <td>3930</td>\n",
       "      <td>4000</td>\n",
       "      <td>470021</td>\n",
       "      <td>0.007557</td>\n",
       "    </tr>\n",
       "    <tr>\n",
       "      <th>2001-11-13</th>\n",
       "      <td>3920</td>\n",
       "      <td>4000</td>\n",
       "      <td>3900</td>\n",
       "      <td>4000</td>\n",
       "      <td>600257</td>\n",
       "      <td>0.000000</td>\n",
       "    </tr>\n",
       "    <tr>\n",
       "      <th>2001-11-14</th>\n",
       "      <td>4100</td>\n",
       "      <td>4300</td>\n",
       "      <td>4059</td>\n",
       "      <td>4300</td>\n",
       "      <td>1500609</td>\n",
       "      <td>0.075000</td>\n",
       "    </tr>\n",
       "    <tr>\n",
       "      <th>2001-11-15</th>\n",
       "      <td>4210</td>\n",
       "      <td>4290</td>\n",
       "      <td>4150</td>\n",
       "      <td>4190</td>\n",
       "      <td>725548</td>\n",
       "      <td>-0.025581</td>\n",
       "    </tr>\n",
       "    <tr>\n",
       "      <th>2001-11-16</th>\n",
       "      <td>4160</td>\n",
       "      <td>4190</td>\n",
       "      <td>4070</td>\n",
       "      <td>4180</td>\n",
       "      <td>715938</td>\n",
       "      <td>-0.002387</td>\n",
       "    </tr>\n",
       "    <tr>\n",
       "      <th>2001-11-19</th>\n",
       "      <td>4100</td>\n",
       "      <td>4400</td>\n",
       "      <td>4100</td>\n",
       "      <td>4370</td>\n",
       "      <td>786310</td>\n",
       "      <td>0.045455</td>\n",
       "    </tr>\n",
       "    <tr>\n",
       "      <th>2001-11-20</th>\n",
       "      <td>4400</td>\n",
       "      <td>4460</td>\n",
       "      <td>4270</td>\n",
       "      <td>4270</td>\n",
       "      <td>753937</td>\n",
       "      <td>-0.022883</td>\n",
       "    </tr>\n",
       "    <tr>\n",
       "      <th>2001-11-21</th>\n",
       "      <td>4160</td>\n",
       "      <td>4300</td>\n",
       "      <td>4150</td>\n",
       "      <td>4220</td>\n",
       "      <td>668676</td>\n",
       "      <td>-0.011710</td>\n",
       "    </tr>\n",
       "    <tr>\n",
       "      <th>2001-11-22</th>\n",
       "      <td>4230</td>\n",
       "      <td>4320</td>\n",
       "      <td>4160</td>\n",
       "      <td>4320</td>\n",
       "      <td>351957</td>\n",
       "      <td>0.023697</td>\n",
       "    </tr>\n",
       "    <tr>\n",
       "      <th>2001-11-23</th>\n",
       "      <td>4340</td>\n",
       "      <td>4450</td>\n",
       "      <td>4300</td>\n",
       "      <td>4440</td>\n",
       "      <td>547400</td>\n",
       "      <td>0.027778</td>\n",
       "    </tr>\n",
       "    <tr>\n",
       "      <th>2001-11-26</th>\n",
       "      <td>4470</td>\n",
       "      <td>4620</td>\n",
       "      <td>4470</td>\n",
       "      <td>4600</td>\n",
       "      <td>759876</td>\n",
       "      <td>0.036036</td>\n",
       "    </tr>\n",
       "    <tr>\n",
       "      <th>2001-11-27</th>\n",
       "      <td>4640</td>\n",
       "      <td>4660</td>\n",
       "      <td>4570</td>\n",
       "      <td>4620</td>\n",
       "      <td>839258</td>\n",
       "      <td>0.004348</td>\n",
       "    </tr>\n",
       "    <tr>\n",
       "      <th>2001-11-28</th>\n",
       "      <td>4540</td>\n",
       "      <td>4600</td>\n",
       "      <td>4350</td>\n",
       "      <td>4380</td>\n",
       "      <td>594097</td>\n",
       "      <td>-0.051948</td>\n",
       "    </tr>\n",
       "    <tr>\n",
       "      <th>2001-11-29</th>\n",
       "      <td>4290</td>\n",
       "      <td>4490</td>\n",
       "      <td>4170</td>\n",
       "      <td>4200</td>\n",
       "      <td>1065368</td>\n",
       "      <td>-0.041096</td>\n",
       "    </tr>\n",
       "    <tr>\n",
       "      <th>2001-11-30</th>\n",
       "      <td>4460</td>\n",
       "      <td>4460</td>\n",
       "      <td>4330</td>\n",
       "      <td>4360</td>\n",
       "      <td>624634</td>\n",
       "      <td>0.038095</td>\n",
       "    </tr>\n",
       "  </tbody>\n",
       "</table>\n",
       "</div>"
      ],
      "text/plain": [
       "            Open  High   Low  Close   Volume    Change\n",
       "Date                                                  \n",
       "2001-11-01  3540  3630  3480   3580   685945  0.031700\n",
       "2001-11-02  3630  3670  3630   3660   758497  0.022346\n",
       "2001-11-05  3670  3699  3619   3700   603653  0.010929\n",
       "2001-11-06  3780  3829  3760   3800  1060255  0.027027\n",
       "2001-11-07  3820  3829  3770   3810   885396  0.002632\n",
       "2001-11-08  3810  3870  3800   3860   752072  0.013123\n",
       "2001-11-09  3900  4010  3860   3970  1308756  0.028497\n",
       "2001-11-12  4010  4050  3930   4000   470021  0.007557\n",
       "2001-11-13  3920  4000  3900   4000   600257  0.000000\n",
       "2001-11-14  4100  4300  4059   4300  1500609  0.075000\n",
       "2001-11-15  4210  4290  4150   4190   725548 -0.025581\n",
       "2001-11-16  4160  4190  4070   4180   715938 -0.002387\n",
       "2001-11-19  4100  4400  4100   4370   786310  0.045455\n",
       "2001-11-20  4400  4460  4270   4270   753937 -0.022883\n",
       "2001-11-21  4160  4300  4150   4220   668676 -0.011710\n",
       "2001-11-22  4230  4320  4160   4320   351957  0.023697\n",
       "2001-11-23  4340  4450  4300   4440   547400  0.027778\n",
       "2001-11-26  4470  4620  4470   4600   759876  0.036036\n",
       "2001-11-27  4640  4660  4570   4620   839258  0.004348\n",
       "2001-11-28  4540  4600  4350   4380   594097 -0.051948\n",
       "2001-11-29  4290  4490  4170   4200  1065368 -0.041096\n",
       "2001-11-30  4460  4460  4330   4360   624634  0.038095"
      ]
     },
     "execution_count": 42,
     "metadata": {},
     "output_type": "execute_result"
    }
   ],
   "source": [
    "#연습 : 2001년 11월만 들고오기\n",
    "kospi = fdr.DataReader(\"005930\")\n",
    "kospi.loc['2001-11'] "
   ]
  },
  {
   "cell_type": "markdown",
   "id": "30c17505-0915-45cf-b269-f8364408b40d",
   "metadata": {},
   "source": [
    "### 2001~2023년까지 매년 11월에사서 4월에 파는 것을 백테스팅\n",
    "백테스팅(backtesting) : 특정 기간(2001년부터 2023년까지) 동안의 투자 전략을 시뮬레이션하여 그 성과를 평가하는 과정"
   ]
  },
  {
   "cell_type": "code",
   "execution_count": 38,
   "id": "8bd7bd2e-a6b1-46b3-b012-185791e0916d",
   "metadata": {},
   "outputs": [
    {
     "data": {
      "text/plain": [
       "6.478562633581528"
      ]
     },
     "execution_count": 38,
     "metadata": {},
     "output_type": "execute_result"
    }
   ],
   "source": [
    "cum_rate = 1\n",
    "\n",
    "for year in range(2001, 2024):\n",
    "    buy_mon = str(year) + \"-11\"\n",
    "    sell_mon = str(year+1) + \"-04\"\n",
    "    buy_price = kospi.loc[buy_mon].iloc[0]['Open']\n",
    "    sell_price = kospi.loc[sell_mon].iloc[-1]['Close']\n",
    "    rate = sell_price / buy_price\n",
    "    cum_rate = cum_rate * rate\n",
    "\n",
    "cum_rate # 누적 수익률 = 약 18배"
   ]
  },
  {
   "cell_type": "code",
   "execution_count": 12,
   "id": "fd2154ca-c7a3-448f-aa3c-e0d3ff34bc35",
   "metadata": {},
   "outputs": [
    {
     "data": {
      "text/plain": [
       "0.12886876749473108"
      ]
     },
     "execution_count": 12,
     "metadata": {},
     "output_type": "execute_result"
    }
   ],
   "source": [
    "#연평균 복리 수익률 // 약 13%\n",
    "GAGR = (cum_rate ** (1/24)) - 1\n",
    "GAGR"
   ]
  },
  {
   "cell_type": "markdown",
   "id": "3d587685-d8a8-4440-989e-89a1427ad606",
   "metadata": {},
   "source": [
    "- 그냥 가지고 있는거랑 할로윈전략 지키는거랑 뭐가 좋나?"
   ]
  },
  {
   "cell_type": "code",
   "execution_count": 15,
   "id": "0509c322-86ec-4b8a-9be4-15bc86c298e2",
   "metadata": {},
   "outputs": [
    {
     "data": {
      "text/plain": [
       "8.199445983379501"
      ]
     },
     "execution_count": 15,
     "metadata": {},
     "output_type": "execute_result"
    }
   ],
   "source": [
    "#그냥 보유했을 때 = 8%\n",
    "simple_rate = kospi.iloc[-1]['Close'] / kospi.iloc[0]['Open']\n",
    "simple_rate"
   ]
  },
  {
   "cell_type": "code",
   "execution_count": 17,
   "id": "df786c0e-0264-4c93-8f45-988d2cfaf467",
   "metadata": {},
   "outputs": [
    {
     "data": {
      "text/plain": [
       "0.09162721540710783"
      ]
     },
     "execution_count": 17,
     "metadata": {},
     "output_type": "execute_result"
    }
   ],
   "source": [
    "# 연평균 수익률 = 9%\n",
    "simple_rate **(1/24) -1"
   ]
  },
  {
   "cell_type": "markdown",
   "id": "2ba90b84-d28b-49de-a260-a078e60e3a5b",
   "metadata": {},
   "source": [
    "- 정말로 11월에 사면 좋은가?"
   ]
  },
  {
   "cell_type": "code",
   "execution_count": 20,
   "id": "8eb316a9-93f1-44cb-b2e1-a77197d461f3",
   "metadata": {},
   "outputs": [
    {
     "data": {
      "text/plain": [
       "'2001-11'"
      ]
     },
     "execution_count": 20,
     "metadata": {},
     "output_type": "execute_result"
    }
   ],
   "source": [
    "# 연습\n",
    "import datetime\n",
    "from dateutil.relativedelta import relativedelta\n",
    "\n",
    "start = datetime.datetime(year = 2001, month = 11, day = 1) #사는 날\n",
    "end = start + relativedelta(month = 5) #파는 날\n",
    "\n",
    "start.strftime(\"%Y-%m\") #원하는 표현 양식"
   ]
  },
  {
   "cell_type": "code",
   "execution_count": 22,
   "id": "d05c9d91-500c-457a-a41d-96cd3d6fe8b5",
   "metadata": {},
   "outputs": [],
   "source": [
    "#검증 함수\n",
    "def month6(df, start_year = 2001, end_year = 2021, month = 11):\n",
    "\n",
    "    cum_rate = 1\n",
    "    \n",
    "    for year in range(start_year, end_year+1):\n",
    "        \n",
    "        start = datetime.datetime(year=year, month=month, day = 1)\n",
    "        end = start + relativedelta(months = 5)\n",
    "\n",
    "        buy_mon = start.strftime(\"%Y-%m\")\n",
    "        sell_mon = end.strftime(\"%Y-%m\")\n",
    "\n",
    "        buy_price = df.loc[buy_mon].iloc[0]['Open']\n",
    "        sell_price = df.loc[sell_mon].iloc[-1]['Close']\n",
    "\n",
    "        rate = sell_price / buy_price\n",
    "        cum_rate = cum_rate * rate\n",
    "\n",
    "    return cum_rate"
   ]
  },
  {
   "cell_type": "code",
   "execution_count": 24,
   "id": "8901315c-9b5a-4808-8330-f363bcff48b0",
   "metadata": {},
   "outputs": [
    {
     "data": {
      "text/plain": [
       "18.34184339517867"
      ]
     },
     "execution_count": 24,
     "metadata": {},
     "output_type": "execute_result"
    }
   ],
   "source": [
    "month6(kospi, 2001, 2023, 11) \n",
    "# 18% 나옴 즉, 이때까지 잘 했다"
   ]
  },
  {
   "cell_type": "code",
   "execution_count": 48,
   "id": "f69979e7-5c09-40a9-8405-743e2d6ed0b3",
   "metadata": {},
   "outputs": [
    {
     "name": "stdout",
     "output_type": "stream",
     "text": [
      "1 1.7694783844135098\n",
      "2 2.730095742488205\n",
      "3 2.2337400499763063\n",
      "4 1.7323110264315065\n",
      "5 0.7370272004196431\n",
      "6 1.2875603509039595\n",
      "7 2.0454303104462594\n",
      "8 1.178520704481425\n",
      "9 1.3902205272396004\n",
      "10 1.822451640982792\n",
      "11 4.15806600255619\n",
      "12 2.416542312178026\n"
     ]
    }
   ],
   "source": [
    "kospi = fdr.DataReader(\"KOSPI\")\n",
    "\n",
    "data = {}\n",
    "for month in range (1, 13):\n",
    "    returns = month6(kospi, 2002, 2023, month)\n",
    "    print(month, returns)\n",
    "    data[month] = returns"
   ]
  },
  {
   "cell_type": "code",
   "execution_count": 52,
   "id": "8ec18642-f81d-4b8d-82ea-2774d16344dd",
   "metadata": {},
   "outputs": [
    {
     "data": {
      "image/png": "[encoded data removed]",
      "text/plain": [
       "<Figure size 640x480 with 1 Axes>"
      ]
     },
     "metadata": {},
     "output_type": "display_data"
    }
   ],
   "source": [
    "plt.bar(data.keys(), data.values())\n",
    "plt.xlabel(\"Month\")\n",
    "plt.ylabel(\"Return\")\n",
    "plt.xticks([1,2,3,4,5,6,7,8,9,10,11,12])\n",
    "plt.gridaxis = 'y'\n",
    "plt.show()"
   ]
  },
  {
   "cell_type": "markdown",
   "id": "ba076e8d-f925-4f9e-86d2-e4fbee261815",
   "metadata": {},
   "source": [
    "## 마켓타이밍\n",
    ": 하락 구간일땐 무시하고 상승 구간에서만 투자\\\n",
    ": **변동성돌파전략 -> 마켓타이밍 순으로 배움**\\\n",
    "\\\n",
    "-> 10일 평균선 위에 있을때만 투자한다고 가정"
   ]
  },
  {
   "cell_type": "code",
   "execution_count": 62,
   "id": "59b6c604-b457-47ce-9dd8-e1501ea3e7d6",
   "metadata": {},
   "outputs": [],
   "source": [
    "df = fdr.DataReader(\"229200\") #코스닥150"
   ]
  },
  {
   "cell_type": "code",
   "execution_count": 64,
   "id": "7a294099-5644-408e-b1c5-d47090bbdb66",
   "metadata": {
    "scrolled": true
   },
   "outputs": [
    {
     "data": {
      "text/html": [
       "<div>\n",
       "<style scoped>\n",
       "    .dataframe tbody tr th:only-of-type {\n",
       "        vertical-align: middle;\n",
       "    }\n",
       "\n",
       "    .dataframe tbody tr th {\n",
       "        vertical-align: top;\n",
       "    }\n",
       "\n",
       "    .dataframe thead th {\n",
       "        text-align: right;\n",
       "    }\n",
       "</style>\n",
       "<table border=\"1\" class=\"dataframe\">\n",
       "  <thead>\n",
       "    <tr style=\"text-align: right;\">\n",
       "      <th></th>\n",
       "      <th>Open</th>\n",
       "      <th>High</th>\n",
       "      <th>Low</th>\n",
       "      <th>Close</th>\n",
       "      <th>Volume</th>\n",
       "      <th>Change</th>\n",
       "      <th>변동</th>\n",
       "      <th>전일변동</th>\n",
       "      <th>목표가</th>\n",
       "    </tr>\n",
       "    <tr>\n",
       "      <th>Date</th>\n",
       "      <th></th>\n",
       "      <th></th>\n",
       "      <th></th>\n",
       "      <th></th>\n",
       "      <th></th>\n",
       "      <th></th>\n",
       "      <th></th>\n",
       "      <th></th>\n",
       "      <th></th>\n",
       "    </tr>\n",
       "  </thead>\n",
       "  <tbody>\n",
       "    <tr>\n",
       "      <th>2015-10-01</th>\n",
       "      <td>10161</td>\n",
       "      <td>10161</td>\n",
       "      <td>10094</td>\n",
       "      <td>10101</td>\n",
       "      <td>31634</td>\n",
       "      <td>NaN</td>\n",
       "      <td>67</td>\n",
       "      <td>NaN</td>\n",
       "      <td>NaN</td>\n",
       "    </tr>\n",
       "    <tr>\n",
       "      <th>2015-10-02</th>\n",
       "      <td>10135</td>\n",
       "      <td>10159</td>\n",
       "      <td>10135</td>\n",
       "      <td>10148</td>\n",
       "      <td>63224</td>\n",
       "      <td>0.004653</td>\n",
       "      <td>24</td>\n",
       "      <td>67.0</td>\n",
       "      <td>10168.5</td>\n",
       "    </tr>\n",
       "    <tr>\n",
       "      <th>2015-10-05</th>\n",
       "      <td>10255</td>\n",
       "      <td>10265</td>\n",
       "      <td>10210</td>\n",
       "      <td>10231</td>\n",
       "      <td>43154</td>\n",
       "      <td>0.008179</td>\n",
       "      <td>55</td>\n",
       "      <td>24.0</td>\n",
       "      <td>10267.0</td>\n",
       "    </tr>\n",
       "    <tr>\n",
       "      <th>2015-10-06</th>\n",
       "      <td>10248</td>\n",
       "      <td>10274</td>\n",
       "      <td>10172</td>\n",
       "      <td>10176</td>\n",
       "      <td>42399</td>\n",
       "      <td>-0.005376</td>\n",
       "      <td>102</td>\n",
       "      <td>55.0</td>\n",
       "      <td>10275.5</td>\n",
       "    </tr>\n",
       "    <tr>\n",
       "      <th>2015-10-07</th>\n",
       "      <td>10094</td>\n",
       "      <td>10094</td>\n",
       "      <td>9947</td>\n",
       "      <td>9949</td>\n",
       "      <td>21324</td>\n",
       "      <td>-0.022307</td>\n",
       "      <td>147</td>\n",
       "      <td>102.0</td>\n",
       "      <td>10145.0</td>\n",
       "    </tr>\n",
       "    <tr>\n",
       "      <th>...</th>\n",
       "      <td>...</td>\n",
       "      <td>...</td>\n",
       "      <td>...</td>\n",
       "      <td>...</td>\n",
       "      <td>...</td>\n",
       "      <td>...</td>\n",
       "      <td>...</td>\n",
       "      <td>...</td>\n",
       "      <td>...</td>\n",
       "    </tr>\n",
       "    <tr>\n",
       "      <th>2024-10-17</th>\n",
       "      <td>12945</td>\n",
       "      <td>13010</td>\n",
       "      <td>12820</td>\n",
       "      <td>12900</td>\n",
       "      <td>3745163</td>\n",
       "      <td>-0.000775</td>\n",
       "      <td>190</td>\n",
       "      <td>120.0</td>\n",
       "      <td>13005.0</td>\n",
       "    </tr>\n",
       "    <tr>\n",
       "      <th>2024-10-18</th>\n",
       "      <td>12890</td>\n",
       "      <td>12910</td>\n",
       "      <td>12570</td>\n",
       "      <td>12660</td>\n",
       "      <td>8569730</td>\n",
       "      <td>-0.018605</td>\n",
       "      <td>340</td>\n",
       "      <td>190.0</td>\n",
       "      <td>12985.0</td>\n",
       "    </tr>\n",
       "    <tr>\n",
       "      <th>2024-10-21</th>\n",
       "      <td>12685</td>\n",
       "      <td>12895</td>\n",
       "      <td>12570</td>\n",
       "      <td>12870</td>\n",
       "      <td>8339814</td>\n",
       "      <td>0.016588</td>\n",
       "      <td>325</td>\n",
       "      <td>340.0</td>\n",
       "      <td>12855.0</td>\n",
       "    </tr>\n",
       "    <tr>\n",
       "      <th>2024-10-22</th>\n",
       "      <td>12845</td>\n",
       "      <td>12850</td>\n",
       "      <td>12425</td>\n",
       "      <td>12435</td>\n",
       "      <td>9706716</td>\n",
       "      <td>-0.033800</td>\n",
       "      <td>425</td>\n",
       "      <td>325.0</td>\n",
       "      <td>13007.5</td>\n",
       "    </tr>\n",
       "    <tr>\n",
       "      <th>2024-10-23</th>\n",
       "      <td>12500</td>\n",
       "      <td>12540</td>\n",
       "      <td>12285</td>\n",
       "      <td>12395</td>\n",
       "      <td>2235607</td>\n",
       "      <td>-0.003217</td>\n",
       "      <td>255</td>\n",
       "      <td>425.0</td>\n",
       "      <td>12712.5</td>\n",
       "    </tr>\n",
       "  </tbody>\n",
       "</table>\n",
       "<p>2226 rows × 9 columns</p>\n",
       "</div>"
      ],
      "text/plain": [
       "             Open   High    Low  Close   Volume    Change   변동   전일변동      목표가\n",
       "Date                                                                          \n",
       "2015-10-01  10161  10161  10094  10101    31634       NaN   67    NaN      NaN\n",
       "2015-10-02  10135  10159  10135  10148    63224  0.004653   24   67.0  10168.5\n",
       "2015-10-05  10255  10265  10210  10231    43154  0.008179   55   24.0  10267.0\n",
       "2015-10-06  10248  10274  10172  10176    42399 -0.005376  102   55.0  10275.5\n",
       "2015-10-07  10094  10094   9947   9949    21324 -0.022307  147  102.0  10145.0\n",
       "...           ...    ...    ...    ...      ...       ...  ...    ...      ...\n",
       "2024-10-17  12945  13010  12820  12900  3745163 -0.000775  190  120.0  13005.0\n",
       "2024-10-18  12890  12910  12570  12660  8569730 -0.018605  340  190.0  12985.0\n",
       "2024-10-21  12685  12895  12570  12870  8339814  0.016588  325  340.0  12855.0\n",
       "2024-10-22  12845  12850  12425  12435  9706716 -0.033800  425  325.0  13007.5\n",
       "2024-10-23  12500  12540  12285  12395  2235607 -0.003217  255  425.0  12712.5\n",
       "\n",
       "[2226 rows x 9 columns]"
      ]
     },
     "execution_count": 64,
     "metadata": {},
     "output_type": "execute_result"
    }
   ],
   "source": [
    "df['변동'] = df['High'] - df['Low']\n",
    "df['전일변동'] = df['변동'].shift(1)\n",
    "df['목표가'] = df['Open'] + df['전일변동'] * 0.5\n",
    "df"
   ]
  },
  {
   "cell_type": "code",
   "execution_count": 66,
   "id": "4b339fa1-6e17-4c59-98d7-eddd6556783a",
   "metadata": {},
   "outputs": [
    {
     "data": {
      "text/plain": [
       "1.5666715786156653"
      ]
     },
     "execution_count": 66,
     "metadata": {},
     "output_type": "execute_result"
    }
   ],
   "source": [
    "df['MA10'] = df['Close'].rolling(window=10).mean()\n",
    "\n",
    "#시가가 전날 이동평균선 위에 있을 때 매매\n",
    "df['매매신호'] = df['Open'] > df['MA10'].shift(1)\n",
    "df['수익률2'] = np.where((df['매매신호'] == 1) & (df['High'] >= df['목표가']), df['Close'] / df['목표가'],1)\n",
    "df['누적수익률2'] = df['수익률2'].cumprod()\n",
    "df['누적수익률2'].iloc[-1] #1.56배 -> max_DD를 확인해야함"
   ]
  },
  {
   "cell_type": "code",
   "execution_count": 68,
   "id": "1349db9b-9bab-4ddc-a383-5d3c338e9688",
   "metadata": {},
   "outputs": [
    {
     "data": {
      "text/plain": [
       "14.367365943377418"
      ]
     },
     "execution_count": 68,
     "metadata": {},
     "output_type": "execute_result"
    }
   ],
   "source": [
    "df['전고점2'] = df['누적수익률2'].cummax()\n",
    "df['DD2'] = (1 - df['누적수익률2'] / df['전고점2']) * 100\n",
    "df['DD2'].max() #MDD = 14"
   ]
  },
  {
   "cell_type": "markdown",
   "id": "868ac434-6361-4569-a9d8-2ed04bd733d9",
   "metadata": {},
   "source": [
    "### 변동성 돌파 전략 \n",
    ": 거래일의 현재시가 [시가 + 전일 변동폭 * 0.5]를 돌파할 때 매수하고 종가에 매도하는 전략\n",
    "- 전일 변동폭 = 전일 고가 - 전일 저가"
   ]
  },
  {
   "cell_type": "code",
   "execution_count": 82,
   "id": "e1b6ab8d-6d92-4e33-af80-917d14919579",
   "metadata": {},
   "outputs": [
    {
     "data": {
      "text/html": [
       "<div>\n",
       "<style scoped>\n",
       "    .dataframe tbody tr th:only-of-type {\n",
       "        vertical-align: middle;\n",
       "    }\n",
       "\n",
       "    .dataframe tbody tr th {\n",
       "        vertical-align: top;\n",
       "    }\n",
       "\n",
       "    .dataframe thead th {\n",
       "        text-align: right;\n",
       "    }\n",
       "</style>\n",
       "<table border=\"1\" class=\"dataframe\">\n",
       "  <thead>\n",
       "    <tr style=\"text-align: right;\">\n",
       "      <th></th>\n",
       "      <th>Open</th>\n",
       "      <th>High</th>\n",
       "      <th>Low</th>\n",
       "      <th>Close</th>\n",
       "      <th>Volume</th>\n",
       "      <th>Change</th>\n",
       "      <th>변동</th>\n",
       "      <th>전일변동</th>\n",
       "      <th>목표가</th>\n",
       "      <th>MA10</th>\n",
       "      <th>매매신호</th>\n",
       "      <th>수익률2</th>\n",
       "      <th>누적수익률2</th>\n",
       "      <th>전고점2</th>\n",
       "      <th>DD2</th>\n",
       "      <th>수익률</th>\n",
       "      <th>누적수익률</th>\n",
       "      <th>전고점</th>\n",
       "      <th>DD</th>\n",
       "    </tr>\n",
       "    <tr>\n",
       "      <th>Date</th>\n",
       "      <th></th>\n",
       "      <th></th>\n",
       "      <th></th>\n",
       "      <th></th>\n",
       "      <th></th>\n",
       "      <th></th>\n",
       "      <th></th>\n",
       "      <th></th>\n",
       "      <th></th>\n",
       "      <th></th>\n",
       "      <th></th>\n",
       "      <th></th>\n",
       "      <th></th>\n",
       "      <th></th>\n",
       "      <th></th>\n",
       "      <th></th>\n",
       "      <th></th>\n",
       "      <th></th>\n",
       "      <th></th>\n",
       "    </tr>\n",
       "  </thead>\n",
       "  <tbody>\n",
       "    <tr>\n",
       "      <th>2015-10-01</th>\n",
       "      <td>10161</td>\n",
       "      <td>10161</td>\n",
       "      <td>10094</td>\n",
       "      <td>10101</td>\n",
       "      <td>31634</td>\n",
       "      <td>NaN</td>\n",
       "      <td>67</td>\n",
       "      <td>NaN</td>\n",
       "      <td>NaN</td>\n",
       "      <td>NaN</td>\n",
       "      <td>False</td>\n",
       "      <td>1.0</td>\n",
       "      <td>1.0</td>\n",
       "      <td>1.0</td>\n",
       "      <td>0.0</td>\n",
       "      <td>1.0</td>\n",
       "      <td>1.0</td>\n",
       "      <td>1.0</td>\n",
       "      <td>0.0</td>\n",
       "    </tr>\n",
       "    <tr>\n",
       "      <th>2015-10-02</th>\n",
       "      <td>10135</td>\n",
       "      <td>10159</td>\n",
       "      <td>10135</td>\n",
       "      <td>10148</td>\n",
       "      <td>63224</td>\n",
       "      <td>0.004653</td>\n",
       "      <td>24</td>\n",
       "      <td>67.0</td>\n",
       "      <td>10168.5</td>\n",
       "      <td>NaN</td>\n",
       "      <td>False</td>\n",
       "      <td>1.0</td>\n",
       "      <td>1.0</td>\n",
       "      <td>1.0</td>\n",
       "      <td>0.0</td>\n",
       "      <td>1.0</td>\n",
       "      <td>1.0</td>\n",
       "      <td>1.0</td>\n",
       "      <td>0.0</td>\n",
       "    </tr>\n",
       "    <tr>\n",
       "      <th>2015-10-05</th>\n",
       "      <td>10255</td>\n",
       "      <td>10265</td>\n",
       "      <td>10210</td>\n",
       "      <td>10231</td>\n",
       "      <td>43154</td>\n",
       "      <td>0.008179</td>\n",
       "      <td>55</td>\n",
       "      <td>24.0</td>\n",
       "      <td>10267.0</td>\n",
       "      <td>NaN</td>\n",
       "      <td>False</td>\n",
       "      <td>1.0</td>\n",
       "      <td>1.0</td>\n",
       "      <td>1.0</td>\n",
       "      <td>0.0</td>\n",
       "      <td>1.0</td>\n",
       "      <td>1.0</td>\n",
       "      <td>1.0</td>\n",
       "      <td>0.0</td>\n",
       "    </tr>\n",
       "    <tr>\n",
       "      <th>2015-10-06</th>\n",
       "      <td>10248</td>\n",
       "      <td>10274</td>\n",
       "      <td>10172</td>\n",
       "      <td>10176</td>\n",
       "      <td>42399</td>\n",
       "      <td>-0.005376</td>\n",
       "      <td>102</td>\n",
       "      <td>55.0</td>\n",
       "      <td>10275.5</td>\n",
       "      <td>NaN</td>\n",
       "      <td>False</td>\n",
       "      <td>1.0</td>\n",
       "      <td>1.0</td>\n",
       "      <td>1.0</td>\n",
       "      <td>0.0</td>\n",
       "      <td>1.0</td>\n",
       "      <td>1.0</td>\n",
       "      <td>1.0</td>\n",
       "      <td>0.0</td>\n",
       "    </tr>\n",
       "    <tr>\n",
       "      <th>2015-10-07</th>\n",
       "      <td>10094</td>\n",
       "      <td>10094</td>\n",
       "      <td>9947</td>\n",
       "      <td>9949</td>\n",
       "      <td>21324</td>\n",
       "      <td>-0.022307</td>\n",
       "      <td>147</td>\n",
       "      <td>102.0</td>\n",
       "      <td>10145.0</td>\n",
       "      <td>NaN</td>\n",
       "      <td>False</td>\n",
       "      <td>1.0</td>\n",
       "      <td>1.0</td>\n",
       "      <td>1.0</td>\n",
       "      <td>0.0</td>\n",
       "      <td>1.0</td>\n",
       "      <td>1.0</td>\n",
       "      <td>1.0</td>\n",
       "      <td>0.0</td>\n",
       "    </tr>\n",
       "  </tbody>\n",
       "</table>\n",
       "</div>"
      ],
      "text/plain": [
       "             Open   High    Low  Close  Volume    Change   변동   전일변동      목표가  \\\n",
       "Date                                                                            \n",
       "2015-10-01  10161  10161  10094  10101   31634       NaN   67    NaN      NaN   \n",
       "2015-10-02  10135  10159  10135  10148   63224  0.004653   24   67.0  10168.5   \n",
       "2015-10-05  10255  10265  10210  10231   43154  0.008179   55   24.0  10267.0   \n",
       "2015-10-06  10248  10274  10172  10176   42399 -0.005376  102   55.0  10275.5   \n",
       "2015-10-07  10094  10094   9947   9949   21324 -0.022307  147  102.0  10145.0   \n",
       "\n",
       "            MA10   매매신호  수익률2  누적수익률2  전고점2  DD2  수익률  누적수익률  전고점   DD  \n",
       "Date                                                                    \n",
       "2015-10-01   NaN  False   1.0     1.0   1.0  0.0  1.0    1.0  1.0  0.0  \n",
       "2015-10-02   NaN  False   1.0     1.0   1.0  0.0  1.0    1.0  1.0  0.0  \n",
       "2015-10-05   NaN  False   1.0     1.0   1.0  0.0  1.0    1.0  1.0  0.0  \n",
       "2015-10-06   NaN  False   1.0     1.0   1.0  0.0  1.0    1.0  1.0  0.0  \n",
       "2015-10-07   NaN  False   1.0     1.0   1.0  0.0  1.0    1.0  1.0  0.0  "
      ]
     },
     "execution_count": 82,
     "metadata": {},
     "output_type": "execute_result"
    }
   ],
   "source": [
    "#거래일의 고가가 목표가보다 크거나 같다면 그 목표가에서 매수\n",
    "#만약 매수가 일어나지 않으면 그대로 유지되므로 그날의 수익률은 1\n",
    "\n",
    "df['수익률'] = np.where(df['High'] >= df['목표가'], df['Close']/df['목표가'], 1)\n",
    "df['누적수익률'] = df['수익률'].cumprod() #약 2.7배\n",
    "df.head()"
   ]
  },
  {
   "cell_type": "code",
   "execution_count": 73,
   "id": "ec4489e0-1615-478e-a3a7-b9ab11c51d27",
   "metadata": {},
   "outputs": [],
   "source": [
    "#연평균수익률\n",
    "delta = df.index[-1] - df.index[0]\n",
    "year = delta.days / 365\n",
    "\n",
    "CAGR = df['누적수익률'].iloc[-1]**(1/year) -1 #연평균 11.7%"
   ]
  },
  {
   "cell_type": "markdown",
   "id": "24a29cfd-9aab-46ac-8e65-f20fe00b5890",
   "metadata": {},
   "source": [
    "- **'변동성 돌파 전략 > 단순보유' 시각화**"
   ]
  },
  {
   "cell_type": "code",
   "execution_count": 76,
   "id": "d143e12e-838c-46f4-810c-4cb6e9d4007e",
   "metadata": {
    "scrolled": true
   },
   "outputs": [
    {
     "data": {
      "image/png": "[encoded data removed]",
      "text/plain": [
       "<Figure size 1000x500 with 1 Axes>"
      ]
     },
     "metadata": {},
     "output_type": "display_data"
    }
   ],
   "source": [
    "plt.figure(figsize =  (10,5))\n",
    "plt.plot(df['누적수익률'])\n",
    "plt.plot(df['Close'] / df['Close'].iloc[0])\n",
    "plt.grid()\n",
    "plt.legend([\"변동성 돌파 전략\", \"단순 보유\"])\n",
    "plt.show()"
   ]
  },
  {
   "cell_type": "code",
   "execution_count": 78,
   "id": "aca4aa9b-43c5-4d82-9d5d-01366f14b231",
   "metadata": {},
   "outputs": [
    {
     "data": {
      "text/plain": [
       "16.417571317332424"
      ]
     },
     "execution_count": 78,
     "metadata": {},
     "output_type": "execute_result"
    }
   ],
   "source": [
    "df['전고점'] = df['누적수익률'].cummax()\n",
    "\n",
    "# 현재 시장에서 얼마나 빠졌는가\n",
    "df['DD'] = (1 - df['누적수익률'] / df['전고점']) * 100  # 낙폭\n",
    "max_DD = df['DD'].max()  # 최대 낙폭 계산\n",
    "max_DD"
   ]
  },
  {
   "cell_type": "markdown",
   "id": "1c81f16b-277a-420b-8cdc-83a4c1f4c8b5",
   "metadata": {},
   "source": [
    "## "
   ]
  },
  {
   "cell_type": "code",
   "execution_count": null,
   "id": "0de9d03d-f0f3-4595-8ecc-c11f23f51728",
   "metadata": {},
   "outputs": [],
   "source": []
  },
  {
   "cell_type": "code",
   "execution_count": null,
   "id": "9e75682f-d082-46de-b672-b25590ba1f88",
   "metadata": {},
   "outputs": [],
   "source": []
  }
 ],
 "metadata": {
  "kernelspec": {
   "display_name": "Python 3 (ipykernel)",
   "language": "python",
   "name": "python3"
  },
  "language_info": {
   "codemirror_mode": {
    "name": "ipython",
    "version": 3
   },
   "file_extension": ".py",
   "mimetype": "text/x-python",
   "name": "python",
   "nbconvert_exporter": "python",
   "pygments_lexer": "ipython3",
   "version": "3.12.4"
  }
 },
 "nbformat": 4,
 "nbformat_minor": 5
}
