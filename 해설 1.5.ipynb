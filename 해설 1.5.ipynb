{
 "cells": [
  {
   "cell_type": "code",
   "execution_count": null,
   "id": "dceed4e5-2d6f-487a-9ddc-5140a91e7e49",
   "metadata": {},
   "outputs": [],
   "source": [
    "# 2024년 기준 종가가 밴드 하단을 터치하면 다음날 시가에 매수\n",
    "# 기다렸다가 밴드의 상단을 터치하면 다음날 시가에 매도하는 전략\n",
    "# 누적수익률이 가장 높은 종목 (20일, 표준편차 * 2)\n",
    "df = pd.read_csv(\"SP500/AAPL.csv\")\n",
    "df['Unnamed: 0'] = pd.to_datetime(df['Unnamed: 0'])\n",
    "df = df.set_index(\"Unnamed: 0\")\n",
    "\n",
    "def problem3(df):\n",
    "    df['MA20'] = df['Close'].rolling(window = 20).mean()\n",
    "    df['STD20'] = df['Close'].rolling(window = 20).std()\n",
    "    df['UB'] = df['MA20'] + 2 * df['STD20']\n",
    "    df['LB'] = df['MA20'] - 2 * df['STD20']\n",
    "    df = df.dropna()\n",
    "    \n",
    "    df = df[df.index.year == 2024]\n",
    "    \n",
    "    cond1 = df['Close'] <= df['LB']\n",
    "    cond2 = df['Close'] >= df['UB']\n",
    "    \n",
    "    import warnings\n",
    "    warnings.filterwarnings(\"ignore\")\n",
    "    \n",
    "    df['구매신호'] = cond1.shift(1).fillna(False)\n",
    "    df['판매신호'] = cond2.shift(1).fillna(False)\n",
    "    \n",
    "    buy_price = -1\n",
    "    cum_rate = 1\n",
    "    \n",
    "    for i in range(len(df)):\n",
    "        if (df.iloc[i]['구매신호'] == True) and (buy_price == -1):\n",
    "            buy_price = df.iloc[i]['Open']\n",
    "    \n",
    "        elif (df.iloc[i]['판매신호'] == True) and (buy_price != -1):\n",
    "            sell_price = df.iloc[i]['Open']\n",
    "            rate = sell_price / buy_price\n",
    "            cum_rate *= rate\n",
    "            buy_price = -1\n",
    "    \n",
    "    return cum_rate"
   ]
  }
 ],
 "metadata": {
  "kernelspec": {
   "display_name": "Python 3 (ipykernel)",
   "language": "python",
   "name": "python3"
  },
  "language_info": {
   "codemirror_mode": {
    "name": "ipython",
    "version": 3
   },
   "file_extension": ".py",
   "mimetype": "text/x-python",
   "name": "python",
   "nbconvert_exporter": "python",
   "pygments_lexer": "ipython3",
   "version": "3.12.7"
  }
 },
 "nbformat": 4,
 "nbformat_minor": 5
}
